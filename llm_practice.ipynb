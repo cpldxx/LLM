{
 "cells": [
  {
   "cell_type": "code",
   "id": "initial_id",
   "metadata": {
    "collapsed": true,
    "ExecuteTime": {
     "end_time": "2025-05-19T03:16:13.462267Z",
     "start_time": "2025-05-19T03:16:12.136524Z"
    }
   },
   "source": "!pip install peft > /dev/null 2>&1\n",
   "outputs": [],
   "execution_count": 8
  },
  {
   "metadata": {
    "ExecuteTime": {
     "end_time": "2025-05-19T02:31:46.631540Z",
     "start_time": "2025-05-19T02:31:46.474127Z"
    }
   },
   "cell_type": "code",
   "source": [
    "from peft import LoraConfig, get_peft_model\n",
    "lora_config = LoraConfig(\n",
    "    r = 8\n",
    "    , lora_alpha =16\n",
    "    , traget_models=['q_proj', 'v_proj']\n",
    "    , lora_dropout=0.1\n",
    "    , bias=None\n",
    "    , task_type ='CAUSAL_LM'\n",
    ")\n"
   ],
   "id": "1ef9e34846089cff",
   "outputs": [
    {
     "ename": "ModuleNotFoundError",
     "evalue": "No module named 'peft'",
     "output_type": "error",
     "traceback": [
      "\u001B[0;31m---------------------------------------------------------------------------\u001B[0m",
      "\u001B[0;31mModuleNotFoundError\u001B[0m                       Traceback (most recent call last)",
      "Cell \u001B[0;32mIn[6], line 1\u001B[0m\n\u001B[0;32m----> 1\u001B[0m \u001B[38;5;28;01mfrom\u001B[39;00m\u001B[38;5;250m \u001B[39m\u001B[38;5;21;01mpeft\u001B[39;00m\u001B[38;5;250m \u001B[39m\u001B[38;5;28;01mimport\u001B[39;00m LoraConfig, get_peft_model\n\u001B[1;32m      2\u001B[0m lora_config \u001B[38;5;241m=\u001B[39m LoraConfig(\n\u001B[1;32m      3\u001B[0m     r \u001B[38;5;241m=\u001B[39m \u001B[38;5;241m8\u001B[39m\n\u001B[1;32m      4\u001B[0m     , lora_alpha \u001B[38;5;241m=\u001B[39m\u001B[38;5;241m16\u001B[39m\n\u001B[0;32m   (...)\u001B[0m\n\u001B[1;32m      8\u001B[0m     , task_type \u001B[38;5;241m=\u001B[39m\u001B[38;5;124m'\u001B[39m\u001B[38;5;124mCAUSAL_LM\u001B[39m\u001B[38;5;124m'\u001B[39m\n\u001B[1;32m      9\u001B[0m )\n",
      "\u001B[0;31mModuleNotFoundError\u001B[0m: No module named 'peft'"
     ]
    }
   ],
   "execution_count": 6
  }
 ],
 "metadata": {
  "kernelspec": {
   "display_name": "Python 3",
   "language": "python",
   "name": "python3"
  },
  "language_info": {
   "codemirror_mode": {
    "name": "ipython",
    "version": 2
   },
   "file_extension": ".py",
   "mimetype": "text/x-python",
   "name": "python",
   "nbconvert_exporter": "python",
   "pygments_lexer": "ipython2",
   "version": "2.7.6"
  }
 },
 "nbformat": 4,
 "nbformat_minor": 5
}
